{
 "cells": [
  {
   "attachments": {},
   "cell_type": "markdown",
   "metadata": {},
   "source": [
    "# Dictionaries in Python Explained with Examples\n",
    "#### Content \n",
    "1. Definition and structure.\n",
    "2. Features.\n",
    "3. How to create.\n",
    "4. Adding/Updating elements.\n",
    "5. Duplicate key, key updation.\n",
    "6. Accessing elements.\n",
    "7. Built in methods of Dictionary.\n"
   ]
  },
  {
   "cell_type": "markdown",
   "metadata": {},
   "source": [
    "##"
   ]
  },
  {
   "attachments": {},
   "cell_type": "markdown",
   "metadata": {},
   "source": [
    "### Content"
   ]
  },
  {
   "cell_type": "markdown",
   "metadata": {},
   "source": []
  }
 ],
 "metadata": {
  "kernelspec": {
   "display_name": "venv",
   "language": "python",
   "name": "python3"
  },
  "language_info": {
   "name": "python",
   "version": "3.10.0 (tags/v3.10.0:b494f59, Oct  4 2021, 19:00:18) [MSC v.1929 64 bit (AMD64)]"
  },
  "orig_nbformat": 4,
  "vscode": {
   "interpreter": {
    "hash": "25e91eb6e4cfaeb6737660599ab8cf8b7d21091b87ac6f9a89535684d2b74d8b"
   }
  }
 },
 "nbformat": 4,
 "nbformat_minor": 2
}
