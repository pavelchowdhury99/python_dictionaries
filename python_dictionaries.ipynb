{
 "cells": [
  {
   "attachments": {},
   "cell_type": "markdown",
   "metadata": {},
   "source": [
    "# Dictionaries in Python Explained with Examples\n",
    "#### Content \n",
    "1. Definition and structure.\n",
    "2. Features.\n",
    "3. How to create.\n",
    "4. Adding/Updating elements.\n",
    "5. Duplicate key.\n",
    "6. Accessing elements.\n",
    "7. Built in methods of Dictionary.\n"
   ]
  },
  {
   "cell_type": "markdown",
   "metadata": {},
   "source": [
    "##"
   ]
  },
  {
   "attachments": {},
   "cell_type": "markdown",
   "metadata": {},
   "source": [
    "### Definition and Structure."
   ]
  },
  {
   "cell_type": "code",
   "execution_count": 86,
   "metadata": {},
   "outputs": [],
   "source": [
    "# A datatype which stores data in a \n",
    "# key:value pair format, and allows nested values \n",
    "# e.g\n",
    "\n",
    "sample_dict = {\n",
    "    'key_1':'value_1',\n",
    "    'key_2':2,\n",
    "    'key_3':{\n",
    "        'key_4':4.4,\n",
    "        5:(1,2,3,4,5),\n",
    "    }\n",
    "}"
   ]
  },
  {
   "attachments": {},
   "cell_type": "markdown",
   "metadata": {},
   "source": [
    "### Features"
   ]
  },
  {
   "cell_type": "code",
   "execution_count": 87,
   "metadata": {},
   "outputs": [],
   "source": [
    "# 1. Ordered\n",
    "# 2. Mutable\n",
    "# 3. Does not allow duplicate keys\n",
    "# 4. Allows nesting."
   ]
  },
  {
   "attachments": {},
   "cell_type": "markdown",
   "metadata": {},
   "source": [
    "### How to create"
   ]
  },
  {
   "cell_type": "code",
   "execution_count": 88,
   "metadata": {},
   "outputs": [
    {
     "data": {
      "text/plain": [
       "{'key_1': 'key_1', 'key_2': {'key_3': 5.5}}"
      ]
     },
     "execution_count": 88,
     "metadata": {},
     "output_type": "execute_result"
    }
   ],
   "source": [
    "# 1. Creating an dictionary instance of dictionary class\n",
    "dict_1 = dict(key_1='key_1',key_2=dict(key_3=5.5))\n",
    "dict_1"
   ]
  },
  {
   "cell_type": "code",
   "execution_count": 89,
   "metadata": {},
   "outputs": [
    {
     "data": {
      "text/plain": [
       "{'key_1': 'value_1', 'key_2': 2, 'key_3': {'key_4': 4.4, 5: (1, 2, 3, 4, 5)}}"
      ]
     },
     "execution_count": 89,
     "metadata": {},
     "output_type": "execute_result"
    }
   ],
   "source": [
    "# 2. By placing the elements in curly {} braces\n",
    "sample_dict = {\n",
    "    'key_1':'value_1',\n",
    "    'key_2':2,\n",
    "    'key_3':{\n",
    "        'key_4':4.4,\n",
    "        5:(1,2,3,4,5),\n",
    "    }\n",
    "}\n",
    "sample_dict"
   ]
  },
  {
   "attachments": {},
   "cell_type": "markdown",
   "metadata": {},
   "source": [
    "### Adding/Upadting Elements"
   ]
  },
  {
   "cell_type": "code",
   "execution_count": 90,
   "metadata": {},
   "outputs": [
    {
     "data": {
      "text/plain": [
       "{'key_1': 'value_1', 'key_2': 2, 'key_3': {'key_4': 4.4, 5: (1, 2, 3, 4, 5)}}"
      ]
     },
     "execution_count": 90,
     "metadata": {},
     "output_type": "execute_result"
    }
   ],
   "source": [
    "sample_dict"
   ]
  },
  {
   "cell_type": "code",
   "execution_count": 91,
   "metadata": {},
   "outputs": [
    {
     "data": {
      "text/plain": [
       "{'key_1': 'value_1',\n",
       " 'key_2': 2,\n",
       " 'key_3': {'key_4': 4.4, 5: (1, 2, 3, 4, 5)},\n",
       " 'key_6': 6,\n",
       " 'key_7': 7}"
      ]
     },
     "execution_count": 91,
     "metadata": {},
     "output_type": "execute_result"
    }
   ],
   "source": [
    "# 1. using update method\n",
    "sample_dict.update(key_6=6,key_7=7)\n",
    "sample_dict"
   ]
  },
  {
   "cell_type": "code",
   "execution_count": 92,
   "metadata": {},
   "outputs": [
    {
     "data": {
      "text/plain": [
       "{'key_1': 'value_1',\n",
       " 'key_2': 2,\n",
       " 'key_3': {'key_4': 4.4, 5: (1, 2, 3, 4, 5)},\n",
       " 'key_6': 6,\n",
       " 'key_7': 7,\n",
       " 'key_8': 6,\n",
       " 'key_9': {'key_10': 10}}"
      ]
     },
     "execution_count": 92,
     "metadata": {},
     "output_type": "execute_result"
    }
   ],
   "source": [
    "new_dict = dict(key_8=6,key_9={'key_10':10})\n",
    "sample_dict.update(new_dict)\n",
    "sample_dict"
   ]
  },
  {
   "cell_type": "code",
   "execution_count": 93,
   "metadata": {},
   "outputs": [
    {
     "data": {
      "text/plain": [
       "{'key_1': 'value_1',\n",
       " 'key_2': 2,\n",
       " 'key_3': {'key_4': 4.4, 5: (1, 2, 3, 4, 5)},\n",
       " 'key_6': 6,\n",
       " 'key_7': 7,\n",
       " 'key_8': 6,\n",
       " 'key_9': {'key_10': 11},\n",
       " 'key_11': {'key_11': 11}}"
      ]
     },
     "execution_count": 93,
     "metadata": {},
     "output_type": "execute_result"
    }
   ],
   "source": [
    "sample_dict.update([('key_9',{'key_10':11}),('key_11',{'key_11':11})])\n",
    "sample_dict"
   ]
  },
  {
   "cell_type": "code",
   "execution_count": 94,
   "metadata": {},
   "outputs": [
    {
     "data": {
      "text/plain": [
       "{'key_1': 'value_1',\n",
       " 'key_2': 2,\n",
       " 'key_3': {'key_4': 4.4, 5: (1, 2, 3, 4, 5)},\n",
       " 'key_6': 6,\n",
       " 'key_7': 7,\n",
       " 'key_8': 12,\n",
       " 'key_9': {'key_10': 11},\n",
       " 'key_11': {'key_11': 11},\n",
       " 'key_12': 12.12}"
      ]
     },
     "execution_count": 94,
     "metadata": {},
     "output_type": "execute_result"
    }
   ],
   "source": [
    "# 2. Updating using assigning.\n",
    "sample_dict['key_12']=12.12\n",
    "sample_dict['key_8']=12\n",
    "sample_dict"
   ]
  },
  {
   "attachments": {},
   "cell_type": "markdown",
   "metadata": {},
   "source": [
    "### Duplicate Keys and Key Updation"
   ]
  },
  {
   "cell_type": "code",
   "execution_count": 95,
   "metadata": {},
   "outputs": [
    {
     "data": {
      "text/plain": [
       "{1: 22, 2: 22}"
      ]
     },
     "execution_count": 95,
     "metadata": {},
     "output_type": "execute_result"
    }
   ],
   "source": [
    "# When duplicated keys are provided while creating/updation,\n",
    "# the last one in order will be taken\n",
    "d = {\n",
    "    1:11,\n",
    "    2:22,\n",
    "    1:22\n",
    "}\n",
    "d"
   ]
  },
  {
   "cell_type": "code",
   "execution_count": 96,
   "metadata": {},
   "outputs": [
    {
     "ename": "SyntaxError",
     "evalue": "keyword argument repeated: key_1 (1821496754.py, line 1)",
     "output_type": "error",
     "traceback": [
      "\u001b[1;36m  Cell \u001b[1;32mIn[96], line 1\u001b[1;36m\u001b[0m\n\u001b[1;33m    d.update(key_1=1,key_1=5)\u001b[0m\n\u001b[1;37m                     ^\u001b[0m\n\u001b[1;31mSyntaxError\u001b[0m\u001b[1;31m:\u001b[0m keyword argument repeated: key_1\n"
     ]
    }
   ],
   "source": [
    "d.update(key_1=1,key_1=5)\n",
    "d"
   ]
  },
  {
   "cell_type": "code",
   "execution_count": 97,
   "metadata": {},
   "outputs": [
    {
     "data": {
      "text/plain": [
       "{1: 22, 2: 22, 'key_1': 5}"
      ]
     },
     "execution_count": 97,
     "metadata": {},
     "output_type": "execute_result"
    }
   ],
   "source": [
    "d.update([('key_1',1),('key_1',5)])\n",
    "d"
   ]
  },
  {
   "attachments": {},
   "cell_type": "markdown",
   "metadata": {},
   "source": [
    "### Accessing an element"
   ]
  },
  {
   "cell_type": "code",
   "execution_count": 98,
   "metadata": {},
   "outputs": [
    {
     "data": {
      "text/plain": [
       "{'key_1': 'value_1',\n",
       " 'key_2': 2,\n",
       " 'key_3': {'key_4': 4.4, 5: (1, 2, 3, 4, 5)},\n",
       " 'key_6': 6,\n",
       " 'key_7': 7,\n",
       " 'key_8': 12,\n",
       " 'key_9': {'key_10': 11},\n",
       " 'key_11': {'key_11': 11},\n",
       " 'key_12': 12.12}"
      ]
     },
     "execution_count": 98,
     "metadata": {},
     "output_type": "execute_result"
    }
   ],
   "source": [
    "# 1. Using [] brackets\n",
    "sample_dict"
   ]
  },
  {
   "cell_type": "code",
   "execution_count": 99,
   "metadata": {},
   "outputs": [
    {
     "data": {
      "text/plain": [
       "{'key_11': 11}"
      ]
     },
     "execution_count": 99,
     "metadata": {},
     "output_type": "execute_result"
    }
   ],
   "source": [
    "sample_dict['key_11']"
   ]
  },
  {
   "cell_type": "code",
   "execution_count": 100,
   "metadata": {},
   "outputs": [
    {
     "ename": "KeyError",
     "evalue": "'key_13'",
     "output_type": "error",
     "traceback": [
      "\u001b[1;31m---------------------------------------------------------------------------\u001b[0m",
      "\u001b[1;31mKeyError\u001b[0m                                  Traceback (most recent call last)",
      "Cell \u001b[1;32mIn[100], line 1\u001b[0m\n\u001b[1;32m----> 1\u001b[0m sample_dict[\u001b[39m'\u001b[39;49m\u001b[39mkey_13\u001b[39;49m\u001b[39m'\u001b[39;49m]\n",
      "\u001b[1;31mKeyError\u001b[0m: 'key_13'"
     ]
    }
   ],
   "source": [
    "sample_dict['key_13']"
   ]
  },
  {
   "cell_type": "code",
   "execution_count": 101,
   "metadata": {},
   "outputs": [
    {
     "data": {
      "text/plain": [
       "{'key_11': 11}"
      ]
     },
     "execution_count": 101,
     "metadata": {},
     "output_type": "execute_result"
    }
   ],
   "source": [
    "sample_dict.get('key_11')"
   ]
  },
  {
   "cell_type": "code",
   "execution_count": 102,
   "metadata": {},
   "outputs": [
    {
     "data": {
      "text/plain": [
       "0"
      ]
     },
     "execution_count": 102,
     "metadata": {},
     "output_type": "execute_result"
    }
   ],
   "source": [
    "sample_dict.get('key_113',0)"
   ]
  },
  {
   "attachments": {},
   "cell_type": "markdown",
   "metadata": {},
   "source": [
    "### Built-in methods of Dictionary"
   ]
  },
  {
   "cell_type": "code",
   "execution_count": 103,
   "metadata": {},
   "outputs": [
    {
     "data": {
      "text/plain": [
       "['__class__',\n",
       " '__class_getitem__',\n",
       " '__contains__',\n",
       " '__delattr__',\n",
       " '__delitem__',\n",
       " '__dir__',\n",
       " '__doc__',\n",
       " '__eq__',\n",
       " '__format__',\n",
       " '__ge__',\n",
       " '__getattribute__',\n",
       " '__getitem__',\n",
       " '__gt__',\n",
       " '__hash__',\n",
       " '__init__',\n",
       " '__init_subclass__',\n",
       " '__ior__',\n",
       " '__iter__',\n",
       " '__le__',\n",
       " '__len__',\n",
       " '__lt__',\n",
       " '__ne__',\n",
       " '__new__',\n",
       " '__or__',\n",
       " '__reduce__',\n",
       " '__reduce_ex__',\n",
       " '__repr__',\n",
       " '__reversed__',\n",
       " '__ror__',\n",
       " '__setattr__',\n",
       " '__setitem__',\n",
       " '__sizeof__',\n",
       " '__str__',\n",
       " '__subclasshook__',\n",
       " 'clear',\n",
       " 'copy',\n",
       " 'fromkeys',\n",
       " 'get',\n",
       " 'items',\n",
       " 'keys',\n",
       " 'pop',\n",
       " 'popitem',\n",
       " 'setdefault',\n",
       " 'update',\n",
       " 'values']"
      ]
     },
     "execution_count": 103,
     "metadata": {},
     "output_type": "execute_result"
    }
   ],
   "source": [
    "dir(dict)"
   ]
  },
  {
   "cell_type": "code",
   "execution_count": 104,
   "metadata": {},
   "outputs": [],
   "source": [
    "# list of methods\n",
    "# 1. clear\n",
    "# 2. copy\n",
    "# 3. fromkeys\n",
    "# 4. get\n",
    "# 5. items\n",
    "# 6. keys\n",
    "# 7. pop\n",
    "# 8. popitem\n",
    "# 9. setdefault\n",
    "# 10. update\n",
    "# 11. values"
   ]
  },
  {
   "cell_type": "code",
   "execution_count": 105,
   "metadata": {},
   "outputs": [
    {
     "name": "stdout",
     "output_type": "stream",
     "text": [
      "2330421033216 2330421033216\n",
      "2330421296128 2330421033216\n"
     ]
    }
   ],
   "source": [
    "# copy method\n",
    "new_dict=sample_dict\n",
    "print(id(new_dict),id(sample_dict))\n",
    "\n",
    "new_dict=sample_dict.copy()\n",
    "print(id(new_dict),id(sample_dict))\n"
   ]
  },
  {
   "cell_type": "code",
   "execution_count": 106,
   "metadata": {},
   "outputs": [
    {
     "data": {
      "text/plain": [
       "{}"
      ]
     },
     "execution_count": 106,
     "metadata": {},
     "output_type": "execute_result"
    }
   ],
   "source": [
    "# clear method\n",
    "new_dict.clear()\n",
    "new_dict"
   ]
  },
  {
   "cell_type": "code",
   "execution_count": 107,
   "metadata": {},
   "outputs": [
    {
     "data": {
      "text/plain": [
       "{'key_1': 10, 1: 10, 2: 10, 'key_4': 10}"
      ]
     },
     "execution_count": 107,
     "metadata": {},
     "output_type": "execute_result"
    }
   ],
   "source": [
    "# fromkeys\n",
    "# used to assign same values to multiple keys\n",
    "new_dict=dict.fromkeys(\n",
    "    ('key_1',1,2,'key_4'),\n",
    "    10\n",
    ")\n",
    "new_dict"
   ]
  },
  {
   "cell_type": "code",
   "execution_count": 108,
   "metadata": {},
   "outputs": [
    {
     "name": "stdout",
     "output_type": "stream",
     "text": [
      "10\n",
      "20\n",
      "None\n"
     ]
    }
   ],
   "source": [
    "# get\n",
    "print(new_dict.get('key_1'))\n",
    "print(new_dict.get('5',20))\n",
    "print(new_dict.get('5'))"
   ]
  },
  {
   "cell_type": "code",
   "execution_count": 109,
   "metadata": {},
   "outputs": [
    {
     "name": "stdout",
     "output_type": "stream",
     "text": [
      "dict_items([('key_1', 10), (1, 10), (2, 10), ('key_4', 10)])\n",
      "key_1::10\n",
      "1::10\n",
      "2::10\n",
      "key_4::10\n"
     ]
    }
   ],
   "source": [
    "# items\n",
    "print(new_dict.items())\n",
    "\n",
    "# popularly used while iteration over a dict\n",
    "for key,value in new_dict.items():\n",
    "    print(key,value,sep='::')"
   ]
  },
  {
   "cell_type": "code",
   "execution_count": 110,
   "metadata": {},
   "outputs": [
    {
     "name": "stdout",
     "output_type": "stream",
     "text": [
      "dict_keys(['key_1', 1, 2, 'key_4'])\n",
      "key_1::10\n",
      "1::10\n",
      "2::10\n",
      "key_4::10\n"
     ]
    }
   ],
   "source": [
    "## keys\n",
    "\n",
    "print(new_dict.keys())\n",
    "\n",
    "for key in new_dict.keys():\n",
    "    print(key,new_dict.get(key),sep='::')"
   ]
  },
  {
   "cell_type": "code",
   "execution_count": 111,
   "metadata": {},
   "outputs": [
    {
     "name": "stdout",
     "output_type": "stream",
     "text": [
      "{'key_1': 10, 1: 10, 2: 10, 'key_4': 10}\n",
      "10\n",
      "{1: 10, 2: 10, 'key_4': 10}\n",
      "default_val\n"
     ]
    },
    {
     "ename": "KeyError",
     "evalue": "'key_10'",
     "output_type": "error",
     "traceback": [
      "\u001b[1;31m---------------------------------------------------------------------------\u001b[0m",
      "\u001b[1;31mKeyError\u001b[0m                                  Traceback (most recent call last)",
      "Cell \u001b[1;32mIn[111], line 7\u001b[0m\n\u001b[0;32m      5\u001b[0m \u001b[39mprint\u001b[39m(new_dict)\n\u001b[0;32m      6\u001b[0m \u001b[39mprint\u001b[39m(new_dict\u001b[39m.\u001b[39mpop(\u001b[39m'\u001b[39m\u001b[39mkey_10\u001b[39m\u001b[39m'\u001b[39m,\u001b[39m'\u001b[39m\u001b[39mdefault_val\u001b[39m\u001b[39m'\u001b[39m))\n\u001b[1;32m----> 7\u001b[0m \u001b[39mprint\u001b[39m(new_dict\u001b[39m.\u001b[39;49mpop(\u001b[39m'\u001b[39;49m\u001b[39mkey_10\u001b[39;49m\u001b[39m'\u001b[39;49m))\n",
      "\u001b[1;31mKeyError\u001b[0m: 'key_10'"
     ]
    }
   ],
   "source": [
    "## pop\n",
    "\n",
    "print(new_dict)\n",
    "print(new_dict.pop('key_1'))\n",
    "print(new_dict)\n",
    "print(new_dict.pop('key_10','default_val'))\n",
    "print(new_dict.pop('key_10'))"
   ]
  },
  {
   "cell_type": "code",
   "execution_count": 112,
   "metadata": {},
   "outputs": [
    {
     "name": "stdout",
     "output_type": "stream",
     "text": [
      "{1: 10, 2: 10, 'key_4': 10}\n",
      "{1: 10, 2: 10, 'key_4': 11, 'key_11': 11, 'key_15': 15}\n",
      "('key_15', 15)\n",
      "{1: 10, 2: 10, 'key_4': 11, 'key_11': 11}\n",
      "{1: 10, 2: 10, 'key_4': 11, 'key_11': 11, 'key_14': 11, 'key_19': 15}\n",
      "('key_19', 15)\n",
      "{1: 10, 2: 10, 'key_4': 11, 'key_11': 11, 'key_14': 11}\n"
     ]
    }
   ],
   "source": [
    "## popitem\n",
    "print(new_dict)\n",
    "\n",
    "new_dict['key_11']=11\n",
    "new_dict.update({'key_4':11,'key_15':15})\n",
    "print(new_dict)\n",
    "\n",
    "print(new_dict.popitem())\n",
    "print(new_dict)\n",
    "\n",
    "new_dict.update({'key_14':11,'key_19':15})\n",
    "print(new_dict)\n",
    "\n",
    "print(new_dict.popitem())\n",
    "print(new_dict)"
   ]
  },
  {
   "cell_type": "code",
   "execution_count": 113,
   "metadata": {},
   "outputs": [
    {
     "name": "stdout",
     "output_type": "stream",
     "text": [
      "{1: 10, 2: 10, 'key_4': 11, 'key_11': 11, 'key_14': 11}\n",
      "11\n",
      "{1: 10, 2: 10, 'key_4': 11, 'key_11': 11, 'key_14': 11}\n",
      "\n",
      "{1: 10, 2: 10, 'key_4': 11, 'key_11': 11, 'key_14': 11}\n",
      "None\n",
      "{1: 10, 2: 10, 'key_4': 11, 'key_11': 11, 'key_14': 11, 'key_1': None}\n",
      "\n",
      "{1: 10, 2: 10, 'key_4': 11, 'key_11': 11, 'key_14': 11, 'key_1': None}\n",
      "3\n",
      "{1: 10, 2: 10, 'key_4': 11, 'key_11': 11, 'key_14': 11, 'key_1': None, 'key_3': 3}\n"
     ]
    }
   ],
   "source": [
    "## setdefault\n",
    "\n",
    "print(new_dict)\n",
    "print(new_dict.setdefault('key_11'))\n",
    "print(new_dict)\n",
    "\n",
    "print()\n",
    "\n",
    "print(new_dict)\n",
    "print(new_dict.setdefault('key_1'))\n",
    "print(new_dict)\n",
    "\n",
    "print()\n",
    "\n",
    "print(new_dict)\n",
    "print(new_dict.setdefault('key_3',3))\n",
    "print(new_dict)"
   ]
  },
  {
   "cell_type": "code",
   "execution_count": 114,
   "metadata": {},
   "outputs": [],
   "source": [
    "# update\n",
    "# covered in the adding/updating section"
   ]
  },
  {
   "cell_type": "code",
   "execution_count": 115,
   "metadata": {},
   "outputs": [
    {
     "name": "stdout",
     "output_type": "stream",
     "text": [
      "{1: 10, 2: 10, 'key_4': 11, 'key_11': 11, 'key_14': 11, 'key_1': None, 'key_3': 3}\n",
      "dict_values([10, 10, 11, 11, 11, None, 3])\n",
      "10\n",
      "10\n",
      "11\n",
      "11\n",
      "11\n",
      "None\n",
      "3\n"
     ]
    }
   ],
   "source": [
    "# value\n",
    "print(new_dict)\n",
    "print(new_dict.values())\n",
    "\n",
    "for value in new_dict.values():\n",
    "    print(value)"
   ]
  },
  {
   "cell_type": "code",
   "execution_count": null,
   "metadata": {},
   "outputs": [],
   "source": []
  }
 ],
 "metadata": {
  "kernelspec": {
   "display_name": "venv",
   "language": "python",
   "name": "python3"
  },
  "language_info": {
   "codemirror_mode": {
    "name": "ipython",
    "version": 3
   },
   "file_extension": ".py",
   "mimetype": "text/x-python",
   "name": "python",
   "nbconvert_exporter": "python",
   "pygments_lexer": "ipython3",
   "version": "3.10.0 (tags/v3.10.0:b494f59, Oct  4 2021, 19:00:18) [MSC v.1929 64 bit (AMD64)]"
  },
  "orig_nbformat": 4,
  "vscode": {
   "interpreter": {
    "hash": "25e91eb6e4cfaeb6737660599ab8cf8b7d21091b87ac6f9a89535684d2b74d8b"
   }
  }
 },
 "nbformat": 4,
 "nbformat_minor": 2
}
