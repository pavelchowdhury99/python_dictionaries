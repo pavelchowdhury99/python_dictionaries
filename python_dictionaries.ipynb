{
 "cells": [
  {
   "attachments": {},
   "cell_type": "markdown",
   "metadata": {},
   "source": [
    "# Dictionaries in Python Explained with Examples\n",
    "#### Content \n",
    "1. Definition and structure.\n",
    "2. Features.\n",
    "3. How to create.\n",
    "4. Adding/Updating elements.\n",
    "5. Duplicate key, key updation.\n",
    "6. Accessing elements.\n",
    "7. Built in methods of Dictionary.\n"
   ]
  },
  {
   "cell_type": "markdown",
   "metadata": {},
   "source": [
    "##"
   ]
  },
  {
   "attachments": {},
   "cell_type": "markdown",
   "metadata": {},
   "source": [
    "### Definition and Structure."
   ]
  },
  {
   "cell_type": "code",
   "execution_count": 3,
   "metadata": {},
   "outputs": [],
   "source": [
    "# A datatype which stores data in a \n",
    "# key:value pair format, and allows nested values \n",
    "# e.g\n",
    "\n",
    "sample_dict = {\n",
    "    'key_1':'value_1',\n",
    "    'key_2':2,\n",
    "    'key_3':{\n",
    "        'key_4':4.4,\n",
    "        5:(1,2,3,4,5),\n",
    "    }\n",
    "}"
   ]
  },
  {
   "attachments": {},
   "cell_type": "markdown",
   "metadata": {},
   "source": [
    "### Features"
   ]
  },
  {
   "cell_type": "code",
   "execution_count": 4,
   "metadata": {},
   "outputs": [],
   "source": [
    "# 1. Ordered\n",
    "# 2. Mutable\n",
    "# 3. Does not allow duplicate keys\n",
    "# 4. Allows nesting."
   ]
  },
  {
   "attachments": {},
   "cell_type": "markdown",
   "metadata": {},
   "source": [
    "### How to create"
   ]
  },
  {
   "cell_type": "code",
   "execution_count": 22,
   "metadata": {},
   "outputs": [
    {
     "data": {
      "text/plain": [
       "{'key_1': 'key_1', 'key_2': {'key_3': 5.5}}"
      ]
     },
     "execution_count": 22,
     "metadata": {},
     "output_type": "execute_result"
    }
   ],
   "source": [
    "# 1. Creating an dictionary instance of dictionary class\n",
    "dict_1 = dict(key_1='key_1',key_2=dict(key_3=5.5))\n",
    "dict_1"
   ]
  },
  {
   "cell_type": "code",
   "execution_count": 23,
   "metadata": {},
   "outputs": [
    {
     "data": {
      "text/plain": [
       "{'key_1': 'value_1', 'key_2': 2, 'key_3': {'key_4': 4.4, 5: (1, 2, 3, 4, 5)}}"
      ]
     },
     "execution_count": 23,
     "metadata": {},
     "output_type": "execute_result"
    }
   ],
   "source": [
    "# 2. By placing the elements in curly {} braces\n",
    "sample_dict = {\n",
    "    'key_1':'value_1',\n",
    "    'key_2':2,\n",
    "    'key_3':{\n",
    "        'key_4':4.4,\n",
    "        5:(1,2,3,4,5),\n",
    "    }\n",
    "}\n",
    "sample_dict"
   ]
  },
  {
   "cell_type": "code",
   "execution_count": null,
   "metadata": {},
   "outputs": [],
   "source": []
  }
 ],
 "metadata": {
  "kernelspec": {
   "display_name": "venv",
   "language": "python",
   "name": "python3"
  },
  "language_info": {
   "codemirror_mode": {
    "name": "ipython",
    "version": 3
   },
   "file_extension": ".py",
   "mimetype": "text/x-python",
   "name": "python",
   "nbconvert_exporter": "python",
   "pygments_lexer": "ipython3",
   "version": "3.10.0"
  },
  "orig_nbformat": 4,
  "vscode": {
   "interpreter": {
    "hash": "25e91eb6e4cfaeb6737660599ab8cf8b7d21091b87ac6f9a89535684d2b74d8b"
   }
  }
 },
 "nbformat": 4,
 "nbformat_minor": 2
}
